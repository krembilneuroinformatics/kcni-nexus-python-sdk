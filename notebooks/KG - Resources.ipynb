{
 "cells": [
  {
   "cell_type": "code",
   "execution_count": null,
   "metadata": {},
   "outputs": [],
   "source": [
    "import nexussdk"
   ]
  },
  {
   "cell_type": "code",
   "execution_count": null,
   "metadata": {},
   "outputs": [],
   "source": [
    "token = ''\n",
    "nexus_deployment = ''\n",
    "nexus = nexussdk.client.NexusClient(nexus_deployment, token)\n",
    "org_label = ''\n",
    "project_label = ''\n"
   ]
  },
  {
   "cell_type": "code",
   "execution_count": null,
   "metadata": {},
   "outputs": [],
   "source": [
    "data = {\n",
    "    \"@id\":\"https://www.example.ca/1\",\n",
    "    \"@type\": \"https://www.example.ca/person\",\n",
    "    \"https://www.example.ca/personname\": \"TestPerson1\"\n",
    "}\n",
    "\n",
    "payload = nexus.resources.upsert(\n",
    "    org_label,\n",
    "    project_label,\n",
    "    data = data\n",
    ")\n",
    "\n",
    "print(payload)"
   ]
  },
  {
   "cell_type": "code",
   "execution_count": null,
   "metadata": {},
   "outputs": [],
   "source": []
  }
 ],
 "metadata": {
  "kernelspec": {
   "display_name": "venv",
   "language": "python",
   "name": "python3"
  },
  "language_info": {
   "codemirror_mode": {
    "name": "ipython",
    "version": 3
   },
   "file_extension": ".py",
   "mimetype": "text/x-python",
   "name": "python",
   "nbconvert_exporter": "python",
   "pygments_lexer": "ipython3",
   "version": "3.11.0rc2"
  }
 },
 "nbformat": 4,
 "nbformat_minor": 2
}
